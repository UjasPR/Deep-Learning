{
 "cells": [
  {
   "cell_type": "code",
   "execution_count": 7,
   "id": "selective-monday",
   "metadata": {},
   "outputs": [],
   "source": [
    "from keras.preprocessing.image import ImageDataGenerator\n",
    "from keras.models import Sequential,load_model\n",
    "from keras.layers import Conv2D,MaxPooling2D,SpatialDropout2D,Flatten,Dropout,Dense\n",
    "# import keras.utils as image\n",
    "from keras import utils\n",
    "# from keras.utils.vis_utils import plot_model\n",
    "import tensorflow as tf\n",
    "import matplotlib.pyplot as plt\n",
    "import cv2\n",
    "import numpy as np\n",
    "import os"
   ]
  },
  {
   "cell_type": "code",
   "execution_count": 8,
   "id": "perceived-substitute",
   "metadata": {},
   "outputs": [],
   "source": [
    "img=image.load_img('Dataset/train/with_mask/8-with-mask.jpg')\n",
    "img.show()"
   ]
  },
  {
   "cell_type": "code",
   "execution_count": 9,
   "id": "prescribed-oxygen",
   "metadata": {},
   "outputs": [],
   "source": [
    "#Normalization\n",
    "train=ImageDataGenerator(rescale=1/255)\n",
    "test=ImageDataGenerator(rescale=1/255)"
   ]
  },
  {
   "cell_type": "code",
   "execution_count": 10,
   "id": "optical-harvard",
   "metadata": {},
   "outputs": [
    {
     "name": "stdout",
     "output_type": "stream",
     "text": [
      "Found 1315 images belonging to 2 classes.\n",
      "Found 194 images belonging to 2 classes.\n"
     ]
    }
   ],
   "source": [
    "traindataset=train.flow_from_directory('Dataset/train',\n",
    "                                      target_size=(150,150),\n",
    "                                       batch_size=16,\n",
    "                                       class_mode='binary')\n",
    "testdataset=train.flow_from_directory('Dataset/test',\n",
    "                                      target_size=(150,150),\n",
    "                                       batch_size=16,\n",
    "                                       class_mode='binary')"
   ]
  },
  {
   "cell_type": "code",
   "execution_count": 14,
   "id": "satisfied-southwest",
   "metadata": {},
   "outputs": [],
   "source": [
    "#CNN\n",
    "model=Sequential()\n",
    "model.add(Conv2D(32,(3,3),activation='relu',input_shape=(150,150,3)))#filters #Kernalsize #RELU\n",
    "model.add(MaxPooling2D() )\n",
    "model.add(Conv2D(32,(3,3),activation='relu'))\n",
    "model.add(MaxPooling2D() )\n",
    "model.add(Conv2D(32,(3,3),activation='relu'))\n",
    "model.add(MaxPooling2D() )\n",
    "model.add(Flatten())\n",
    "model.add(Dense(100,activation='relu'))\n",
    "model.add(Dense(1,activation='sigmoid'))"
   ]
  },
  {
   "cell_type": "code",
   "execution_count": 15,
   "id": "median-fence",
   "metadata": {},
   "outputs": [],
   "source": [
    "model.compile(optimizer='adam',loss='binary_crossentropy',metrics=['accuracy'])"
   ]
  },
  {
   "cell_type": "code",
   "execution_count": 17,
   "id": "tracked-termination",
   "metadata": {},
   "outputs": [
    {
     "name": "stdout",
     "output_type": "stream",
     "text": [
      "Epoch 1/7\n",
      "83/83 [==============================] - 38s 454ms/step - loss: 0.2041 - accuracy: 0.9270\n",
      "Epoch 2/7\n",
      "83/83 [==============================] - 38s 455ms/step - loss: 0.1168 - accuracy: 0.9635\n",
      "Epoch 3/7\n",
      "83/83 [==============================] - 38s 454ms/step - loss: 0.0871 - accuracy: 0.9719\n",
      "Epoch 4/7\n",
      "83/83 [==============================] - 40s 475ms/step - loss: 0.0717 - accuracy: 0.9764\n",
      "Epoch 5/7\n",
      "83/83 [==============================] - 38s 457ms/step - loss: 0.1073 - accuracy: 0.9635\n",
      "Epoch 6/7\n",
      "83/83 [==============================] - 47s 570ms/step - loss: 0.0436 - accuracy: 0.9863\n",
      "Epoch 7/7\n",
      "83/83 [==============================] - 50s 599ms/step - loss: 0.0349 - accuracy: 0.9871\n"
     ]
    }
   ],
   "source": [
    "model_saved=model.fit(\n",
    "        traindataset,\n",
    "        epochs=7)"
   ]
  },
  {
   "cell_type": "code",
   "execution_count": 18,
   "id": "institutional-lawrence",
   "metadata": {},
   "outputs": [
    {
     "name": "stdout",
     "output_type": "stream",
     "text": [
      "13/13 [==============================] - 2s 159ms/step\n"
     ]
    }
   ],
   "source": [
    "prediction=model.predict(testdataset)"
   ]
  },
  {
   "cell_type": "code",
   "execution_count": 33,
   "id": "ec24f122",
   "metadata": {},
   "outputs": [
    {
     "name": "stdout",
     "output_type": "stream",
     "text": [
      "[0.9999434]\n"
     ]
    }
   ],
   "source": [
    "result=prediction[4]\n",
    "print(result)"
   ]
  },
  {
   "cell_type": "code",
   "execution_count": 47,
   "id": "7815c9ba",
   "metadata": {},
   "outputs": [
    {
     "name": "stdout",
     "output_type": "stream",
     "text": [
      "[4.4529646e-08]\n"
     ]
    }
   ],
   "source": [
    "result=prediction[2]\n",
    "print(result)"
   ]
  },
  {
   "cell_type": "code",
   "execution_count": 48,
   "id": "patient-picture",
   "metadata": {},
   "outputs": [
    {
     "data": {
      "text/plain": [
       "0"
      ]
     },
     "execution_count": 48,
     "metadata": {},
     "output_type": "execute_result"
    }
   ],
   "source": [
    "testdataset.classes[78]"
   ]
  },
  {
   "cell_type": "code",
   "execution_count": null,
   "id": "excellent-myanmar",
   "metadata": {},
   "outputs": [],
   "source": []
  }
 ],
 "metadata": {
  "kernelspec": {
   "display_name": "Python 3 (ipykernel)",
   "language": "python",
   "name": "python3"
  },
  "language_info": {
   "codemirror_mode": {
    "name": "ipython",
    "version": 3
   },
   "file_extension": ".py",
   "mimetype": "text/x-python",
   "name": "python",
   "nbconvert_exporter": "python",
   "pygments_lexer": "ipython3",
   "version": "3.10.9"
  }
 },
 "nbformat": 4,
 "nbformat_minor": 5
}
